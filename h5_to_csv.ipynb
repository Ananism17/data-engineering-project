{
 "cells": [
  {
   "cell_type": "code",
   "execution_count": 1,
   "id": "66c3b737-0332-45ef-9cf9-c8322e9c8d5e",
   "metadata": {},
   "outputs": [],
   "source": [
    "import os\n",
    "import h5py\n",
    "import pandas as pd\n",
    "import numpy as np\n",
    "from tqdm.notebook import tqdm"
   ]
  },
  {
   "cell_type": "code",
   "execution_count": 2,
   "id": "898ceab8-a4f0-42c5-b483-1b363538bbae",
   "metadata": {},
   "outputs": [],
   "source": [
    "# Function to extract data from h5 files\n",
    "def process_h5_file(file_path):\n",
    "    try:\n",
    "        with h5py.File(file_path, 'r') as h5:\n",
    "            # Extract basic song information\n",
    "            song_id = h5['metadata']['songs']['song_id'][0].decode('utf-8')\n",
    "            artist_id = h5['metadata']['songs']['artist_id'][0].decode('utf-8')\n",
    "            artist_name = h5['metadata']['songs']['artist_name'][0].decode('utf-8')\n",
    "            title = h5['metadata']['songs']['title'][0].decode('utf-8')\n",
    "            \n",
    "            # Extract audio features\n",
    "            tempo = float(h5['analysis']['songs']['tempo'][0])\n",
    "            loudness = float(h5['analysis']['songs']['loudness'][0])\n",
    "            danceability = float(h5['analysis']['songs']['danceability'][0])\n",
    "            energy = float(h5['analysis']['songs']['energy'][0])\n",
    "            duration = float(h5['analysis']['songs']['duration'][0])\n",
    "            \n",
    "            return {\n",
    "                'song_id': song_id,\n",
    "                'artist_id': artist_id,\n",
    "                'artist_name': artist_name,\n",
    "                'title': title,\n",
    "                'tempo': tempo,\n",
    "                'loudness': loudness,\n",
    "                'danceability': danceability,\n",
    "                'energy': energy,\n",
    "                'duration': duration\n",
    "            }\n",
    "    except Exception as e:\n",
    "        print(f\"Error processing {file_path}: {e}\")\n",
    "        return None"
   ]
  },
  {
   "cell_type": "code",
   "execution_count": 3,
   "id": "50568db0-d3f5-479e-9970-44528b81f2ac",
   "metadata": {},
   "outputs": [],
   "source": [
    "# Find all h5 files in the directory structure\n",
    "def find_h5_files(base_dir):\n",
    "    h5_files = []\n",
    "    for root, dirs, files in os.walk(base_dir):\n",
    "        for file in files:\n",
    "            if file.endswith('.h5'):\n",
    "                h5_files.append(os.path.join(root, file))\n",
    "    return h5_files"
   ]
  },
  {
   "cell_type": "code",
   "execution_count": 4,
   "id": "215b16f4-e21b-4cf9-9acb-e4fb9a974101",
   "metadata": {},
   "outputs": [
    {
     "name": "stdout",
     "output_type": "stream",
     "text": [
      "Dataset directory found at: C:\\Users\\USER\\Notebooks\\DE\\Project\\MillionSongSubset\n",
      "Contents of the directory:\n",
      "A\n",
      "B\n"
     ]
    }
   ],
   "source": [
    "base_dir = os.path.join(os.getcwd(), 'MillionSongSubset')\n",
    "if os.path.exists(base_dir):\n",
    "    print(f\"Dataset directory found at: {base_dir}\")\n",
    "    print(\"Contents of the directory:\")\n",
    "    for item in os.listdir(base_dir):\n",
    "        print(item)\n",
    "else:\n",
    "    print(f\"Error: Dataset directory not found at {base_dir}\")"
   ]
  },
  {
   "cell_type": "code",
   "execution_count": 5,
   "id": "441b6c5a-899e-45d3-afbe-069546aed043",
   "metadata": {},
   "outputs": [
    {
     "name": "stdout",
     "output_type": "stream",
     "text": [
      "Finding h5 files...\n",
      "Found 10000 h5 files\n"
     ]
    }
   ],
   "source": [
    "# Get list of all h5 files\n",
    "print(\"Finding h5 files...\")\n",
    "h5_files = find_h5_files(base_dir)\n",
    "print(f\"Found {len(h5_files)} h5 files\")"
   ]
  },
  {
   "cell_type": "code",
   "execution_count": 6,
   "id": "3cb25b73-3471-4fd5-a41d-65b4b8bbe59f",
   "metadata": {},
   "outputs": [],
   "source": [
    "# Process files in batches to avoid memory issues\n",
    "batch_size = 1000\n",
    "all_songs = []"
   ]
  },
  {
   "cell_type": "code",
   "execution_count": 7,
   "id": "081529a2-3402-4307-95ed-1f536653301b",
   "metadata": {},
   "outputs": [
    {
     "name": "stdout",
     "output_type": "stream",
     "text": [
      "Processing batch 1/10\n"
     ]
    },
    {
     "data": {
      "application/vnd.jupyter.widget-view+json": {
       "model_id": "2b5c8a5ff2344a35bd56a1eb418382fb",
       "version_major": 2,
       "version_minor": 0
      },
      "text/plain": [
       "  0%|          | 0/1000 [00:00<?, ?it/s]"
      ]
     },
     "metadata": {},
     "output_type": "display_data"
    },
    {
     "name": "stdout",
     "output_type": "stream",
     "text": [
      "Processing batch 2/10\n"
     ]
    },
    {
     "data": {
      "application/vnd.jupyter.widget-view+json": {
       "model_id": "d41c10fc79f341909faed520d5e0a11a",
       "version_major": 2,
       "version_minor": 0
      },
      "text/plain": [
       "  0%|          | 0/1000 [00:00<?, ?it/s]"
      ]
     },
     "metadata": {},
     "output_type": "display_data"
    },
    {
     "name": "stdout",
     "output_type": "stream",
     "text": [
      "Processing batch 3/10\n"
     ]
    },
    {
     "data": {
      "application/vnd.jupyter.widget-view+json": {
       "model_id": "b248736477b64fdea0dc24131cfa8a98",
       "version_major": 2,
       "version_minor": 0
      },
      "text/plain": [
       "  0%|          | 0/1000 [00:00<?, ?it/s]"
      ]
     },
     "metadata": {},
     "output_type": "display_data"
    },
    {
     "name": "stdout",
     "output_type": "stream",
     "text": [
      "Processing batch 4/10\n"
     ]
    },
    {
     "data": {
      "application/vnd.jupyter.widget-view+json": {
       "model_id": "2100477ee26c446081c48076d68dac6c",
       "version_major": 2,
       "version_minor": 0
      },
      "text/plain": [
       "  0%|          | 0/1000 [00:00<?, ?it/s]"
      ]
     },
     "metadata": {},
     "output_type": "display_data"
    },
    {
     "name": "stdout",
     "output_type": "stream",
     "text": [
      "Processing batch 5/10\n"
     ]
    },
    {
     "data": {
      "application/vnd.jupyter.widget-view+json": {
       "model_id": "35fac492b8b44aa6b0fcf58868eba382",
       "version_major": 2,
       "version_minor": 0
      },
      "text/plain": [
       "  0%|          | 0/1000 [00:00<?, ?it/s]"
      ]
     },
     "metadata": {},
     "output_type": "display_data"
    },
    {
     "name": "stdout",
     "output_type": "stream",
     "text": [
      "Processing batch 6/10\n"
     ]
    },
    {
     "data": {
      "application/vnd.jupyter.widget-view+json": {
       "model_id": "de5ce81584cd42d5920a76804e848a1e",
       "version_major": 2,
       "version_minor": 0
      },
      "text/plain": [
       "  0%|          | 0/1000 [00:00<?, ?it/s]"
      ]
     },
     "metadata": {},
     "output_type": "display_data"
    },
    {
     "name": "stdout",
     "output_type": "stream",
     "text": [
      "Processing batch 7/10\n"
     ]
    },
    {
     "data": {
      "application/vnd.jupyter.widget-view+json": {
       "model_id": "ee13b43435494768ab54326bc8ac32b8",
       "version_major": 2,
       "version_minor": 0
      },
      "text/plain": [
       "  0%|          | 0/1000 [00:00<?, ?it/s]"
      ]
     },
     "metadata": {},
     "output_type": "display_data"
    },
    {
     "name": "stdout",
     "output_type": "stream",
     "text": [
      "Processing batch 8/10\n"
     ]
    },
    {
     "data": {
      "application/vnd.jupyter.widget-view+json": {
       "model_id": "d41327e05eb24cddb50bde42280845af",
       "version_major": 2,
       "version_minor": 0
      },
      "text/plain": [
       "  0%|          | 0/1000 [00:00<?, ?it/s]"
      ]
     },
     "metadata": {},
     "output_type": "display_data"
    },
    {
     "name": "stdout",
     "output_type": "stream",
     "text": [
      "Processing batch 9/10\n"
     ]
    },
    {
     "data": {
      "application/vnd.jupyter.widget-view+json": {
       "model_id": "3086aa3ae98c4afe8618f048db5ff6db",
       "version_major": 2,
       "version_minor": 0
      },
      "text/plain": [
       "  0%|          | 0/1000 [00:00<?, ?it/s]"
      ]
     },
     "metadata": {},
     "output_type": "display_data"
    },
    {
     "name": "stdout",
     "output_type": "stream",
     "text": [
      "Processing batch 10/10\n"
     ]
    },
    {
     "data": {
      "application/vnd.jupyter.widget-view+json": {
       "model_id": "609e44fb4b9846d2956879edb7067a07",
       "version_major": 2,
       "version_minor": 0
      },
      "text/plain": [
       "  0%|          | 0/1000 [00:00<?, ?it/s]"
      ]
     },
     "metadata": {},
     "output_type": "display_data"
    }
   ],
   "source": [
    "for i in range(0, len(h5_files), batch_size):\n",
    "    batch_files = h5_files[i:i+batch_size]\n",
    "    print(f\"Processing batch {i//batch_size + 1}/{(len(h5_files)-1)//batch_size + 1}\")\n",
    "    \n",
    "    # Process each file in the batch with a progress bar\n",
    "    batch_results = []\n",
    "    for file_path in tqdm(batch_files):\n",
    "        result = process_h5_file(file_path)\n",
    "        if result:\n",
    "            batch_results.append(result)\n",
    "    \n",
    "    # Convert batch to DataFrame\n",
    "    batch_df = pd.DataFrame(batch_results)\n",
    "    \n",
    "    # Save batch to avoid keeping everything in memory\n",
    "    batch_df.to_csv(f'songs_batch_{i//batch_size + 1}.csv', index=False)\n",
    "    \n",
    "    # Optionally keep data in memory if your machine can handle it\n",
    "    all_songs.extend(batch_results)"
   ]
  },
  {
   "cell_type": "code",
   "execution_count": 8,
   "id": "d56b9fb3-b071-473b-94c0-2ac6c8e3ceea",
   "metadata": {},
   "outputs": [],
   "source": [
    "# Create final DataFrame (either from memory or by combining CSVs)\n",
    "if all_songs:\n",
    "    # If we kept everything in memory\n",
    "    songs_df = pd.DataFrame(all_songs)\n",
    "    songs_df.to_csv('all_songs.csv', index=False)\n",
    "else:\n",
    "    # If we saved batches, combine them\n",
    "    import glob\n",
    "    all_files = glob.glob('songs_batch_*.csv')\n",
    "    songs_df = pd.concat((pd.read_csv(f) for f in all_files), ignore_index=True)\n",
    "    songs_df.to_csv('all_songs.csv', index=False)"
   ]
  },
  {
   "cell_type": "code",
   "execution_count": 9,
   "id": "c5c8b4f4-6165-4bb7-8230-f695f6342819",
   "metadata": {},
   "outputs": [
    {
     "data": {
      "text/html": [
       "<div>\n",
       "<style scoped>\n",
       "    .dataframe tbody tr th:only-of-type {\n",
       "        vertical-align: middle;\n",
       "    }\n",
       "\n",
       "    .dataframe tbody tr th {\n",
       "        vertical-align: top;\n",
       "    }\n",
       "\n",
       "    .dataframe thead th {\n",
       "        text-align: right;\n",
       "    }\n",
       "</style>\n",
       "<table border=\"1\" class=\"dataframe\">\n",
       "  <thead>\n",
       "    <tr style=\"text-align: right;\">\n",
       "      <th></th>\n",
       "      <th>song_id</th>\n",
       "      <th>artist_id</th>\n",
       "      <th>artist_name</th>\n",
       "      <th>title</th>\n",
       "      <th>tempo</th>\n",
       "      <th>loudness</th>\n",
       "      <th>danceability</th>\n",
       "      <th>energy</th>\n",
       "      <th>duration</th>\n",
       "    </tr>\n",
       "  </thead>\n",
       "  <tbody>\n",
       "    <tr>\n",
       "      <th>0</th>\n",
       "      <td>SOMZWCG12A8C13C480</td>\n",
       "      <td>ARD7TVE1187B99BFB1</td>\n",
       "      <td>Casual</td>\n",
       "      <td>I Didn't Mean To</td>\n",
       "      <td>92.198</td>\n",
       "      <td>-11.197</td>\n",
       "      <td>0.0</td>\n",
       "      <td>0.0</td>\n",
       "      <td>218.93179</td>\n",
       "    </tr>\n",
       "    <tr>\n",
       "      <th>1</th>\n",
       "      <td>SOCIWDW12A8C13D406</td>\n",
       "      <td>ARMJAGH1187FB546F3</td>\n",
       "      <td>The Box Tops</td>\n",
       "      <td>Soul Deep</td>\n",
       "      <td>121.274</td>\n",
       "      <td>-9.843</td>\n",
       "      <td>0.0</td>\n",
       "      <td>0.0</td>\n",
       "      <td>148.03546</td>\n",
       "    </tr>\n",
       "    <tr>\n",
       "      <th>2</th>\n",
       "      <td>SOXVLOJ12AB0189215</td>\n",
       "      <td>ARKRRTF1187B9984DA</td>\n",
       "      <td>Sonora Santanera</td>\n",
       "      <td>Amor De Cabaret</td>\n",
       "      <td>100.070</td>\n",
       "      <td>-9.689</td>\n",
       "      <td>0.0</td>\n",
       "      <td>0.0</td>\n",
       "      <td>177.47546</td>\n",
       "    </tr>\n",
       "    <tr>\n",
       "      <th>3</th>\n",
       "      <td>SONHOTT12A8C13493C</td>\n",
       "      <td>AR7G5I41187FB4CE6C</td>\n",
       "      <td>Adam Ant</td>\n",
       "      <td>Something Girls</td>\n",
       "      <td>119.293</td>\n",
       "      <td>-9.013</td>\n",
       "      <td>0.0</td>\n",
       "      <td>0.0</td>\n",
       "      <td>233.40363</td>\n",
       "    </tr>\n",
       "    <tr>\n",
       "      <th>4</th>\n",
       "      <td>SOFSOCN12A8C143F5D</td>\n",
       "      <td>ARXR32B1187FB57099</td>\n",
       "      <td>Gob</td>\n",
       "      <td>Face the Ashes</td>\n",
       "      <td>129.738</td>\n",
       "      <td>-4.501</td>\n",
       "      <td>0.0</td>\n",
       "      <td>0.0</td>\n",
       "      <td>209.60608</td>\n",
       "    </tr>\n",
       "  </tbody>\n",
       "</table>\n",
       "</div>"
      ],
      "text/plain": [
       "              song_id           artist_id       artist_name             title  \\\n",
       "0  SOMZWCG12A8C13C480  ARD7TVE1187B99BFB1            Casual  I Didn't Mean To   \n",
       "1  SOCIWDW12A8C13D406  ARMJAGH1187FB546F3      The Box Tops         Soul Deep   \n",
       "2  SOXVLOJ12AB0189215  ARKRRTF1187B9984DA  Sonora Santanera   Amor De Cabaret   \n",
       "3  SONHOTT12A8C13493C  AR7G5I41187FB4CE6C          Adam Ant   Something Girls   \n",
       "4  SOFSOCN12A8C143F5D  ARXR32B1187FB57099               Gob    Face the Ashes   \n",
       "\n",
       "     tempo  loudness  danceability  energy   duration  \n",
       "0   92.198   -11.197           0.0     0.0  218.93179  \n",
       "1  121.274    -9.843           0.0     0.0  148.03546  \n",
       "2  100.070    -9.689           0.0     0.0  177.47546  \n",
       "3  119.293    -9.013           0.0     0.0  233.40363  \n",
       "4  129.738    -4.501           0.0     0.0  209.60608  "
      ]
     },
     "execution_count": 9,
     "metadata": {},
     "output_type": "execute_result"
    }
   ],
   "source": [
    "# Display sample data\n",
    "songs_df.head()"
   ]
  },
  {
   "cell_type": "code",
   "execution_count": null,
   "id": "0d9b17ab-7a6f-4554-99eb-40be20714faa",
   "metadata": {},
   "outputs": [],
   "source": []
  }
 ],
 "metadata": {
  "kernelspec": {
   "display_name": "Python 3 (ipykernel)",
   "language": "python",
   "name": "python3"
  },
  "language_info": {
   "codemirror_mode": {
    "name": "ipython",
    "version": 3
   },
   "file_extension": ".py",
   "mimetype": "text/x-python",
   "name": "python",
   "nbconvert_exporter": "python",
   "pygments_lexer": "ipython3",
   "version": "3.11.9"
  }
 },
 "nbformat": 4,
 "nbformat_minor": 5
}
